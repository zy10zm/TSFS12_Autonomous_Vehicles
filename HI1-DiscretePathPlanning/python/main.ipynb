{
 "cells": [
  {
   "cell_type": "markdown",
   "metadata": {},
   "source": [
    "# TSFS12 Hand-in exercise 1: Discrete planning in structured road networks\n",
    "Erik Frisk (erik.frisk@liu.se)"
   ]
  },
  {
   "cell_type": "markdown",
   "metadata": {},
   "source": [
    "Do initial imports of packages needed"
   ]
  },
  {
   "cell_type": "code",
   "execution_count": 1,
   "metadata": {},
   "outputs": [],
   "source": [
    "import numpy as np\n",
    "import matplotlib.pyplot as plt\n",
    "from misc import Timer, LatLongDistance\n",
    "from queues import FIFO, LIFO, PriorityQueue\n",
    "from osm import loadOSMmap"
   ]
  },
  {
   "cell_type": "markdown",
   "metadata": {},
   "source": [
    "Activate plots in external windows (needed for mission definition)"
   ]
  },
  {
   "cell_type": "code",
   "execution_count": 2,
   "metadata": {},
   "outputs": [
    {
     "name": "stdout",
     "output_type": "stream",
     "text": [
      "Using matplotlib backend: TkAgg\n"
     ]
    }
   ],
   "source": [
    "%matplotlib"
   ]
  },
  {
   "cell_type": "markdown",
   "metadata": {},
   "source": [
    "# Load map"
   ]
  },
  {
   "cell_type": "code",
   "execution_count": 3,
   "metadata": {},
   "outputs": [],
   "source": [
    "dataDir = '../Maps/'\n",
    "osmFile = 'linkoping.osm'\n",
    "figFile = 'linkoping.png'\n",
    "osmMap = loadOSMmap(dataDir + osmFile, dataDir + figFile)\n",
    "\n",
    "num_nodes = len(osmMap.nodes)  # Number of nodes in the map"
   ]
  },
  {
   "cell_type": "markdown",
   "metadata": {},
   "source": [
    "Define function to compute possible next nodes from node x and the corresponding distances distances."
   ]
  },
  {
   "cell_type": "code",
   "execution_count": 4,
   "metadata": {},
   "outputs": [],
   "source": [
    "def f_next(x):\n",
    "    \"\"\"Compute, neighbours for a node\"\"\"\n",
    "    cx = osmMap.distancematrix[x, :].tocoo()\n",
    "    return cx.col, np.full(cx.col.shape, np.nan), cx.data"
   ]
  },
  {
   "cell_type": "markdown",
   "metadata": {},
   "source": [
    "# Display basic information about map"
   ]
  },
  {
   "cell_type": "markdown",
   "metadata": {},
   "source": [
    "Print some basic map information"
   ]
  },
  {
   "cell_type": "code",
   "execution_count": 5,
   "metadata": {},
   "outputs": [
    {
     "name": "stdout",
     "output_type": "stream",
     "text": [
      "OSMFile: ../Maps/linkoping.osm\n",
      "Number of nodes: 12112\n",
      "Number of roads: 2977\n",
      "Map bounds\n",
      "  Lon: 15.572100 - 15.650100\n",
      "  Lat: 58.391000 - 58.420200\n",
      "  Size: 4545.8 x 3246.9 (m)\n",
      "Figure file: ../Maps/linkoping.png\n",
      "  Size: 2296 x 1637 (px)\n"
     ]
    }
   ],
   "source": [
    "osmMap.info()"
   ]
  },
  {
   "cell_type": "markdown",
   "metadata": {},
   "source": [
    "Plot the map"
   ]
  },
  {
   "cell_type": "code",
   "execution_count": 6,
   "metadata": {},
   "outputs": [],
   "source": [
    "plt.figure(10)\n",
    "osmMap.plotmap()\n",
    "plt.xlabel('Longitude')\n",
    "plt.ylabel('Latitude')\n",
    "plt.title('Linköping');"
   ]
  },
  {
   "cell_type": "markdown",
   "metadata": {},
   "source": [
    "Which nodes are neighbors to node with index 110?"
   ]
  },
  {
   "cell_type": "code",
   "execution_count": 7,
   "metadata": {},
   "outputs": [
    {
     "name": "stdout",
     "output_type": "stream",
     "text": [
      "Neighbours: [3400 3401]\n",
      "Distances: [8.51886025 8.7868951 ]\n"
     ]
    }
   ],
   "source": [
    "n, _, d = f_next(110)\n",
    "print(f'Neighbours: {n}')\n",
    "print(f'Distances: {d}')"
   ]
  },
  {
   "cell_type": "markdown",
   "metadata": {},
   "source": [
    "Look up the distance (in meters) between the nodes 110 and 3400 in the distance matrix?"
   ]
  },
  {
   "cell_type": "code",
   "execution_count": 8,
   "metadata": {},
   "outputs": [
    {
     "name": "stdout",
     "output_type": "stream",
     "text": [
      "8.518860245357462\n"
     ]
    }
   ],
   "source": [
    "print(osmMap.distancematrix[110, 3400])"
   ]
  },
  {
   "cell_type": "markdown",
   "metadata": {},
   "source": [
    "Latitude and longitude of node 110"
   ]
  },
  {
   "cell_type": "code",
   "execution_count": 9,
   "metadata": {},
   "outputs": [
    {
     "name": "stdout",
     "output_type": "stream",
     "text": [
      "Longitude = 15.574, Latitude = 58.398\n"
     ]
    }
   ],
   "source": [
    "p = osmMap.nodeposition[110]\n",
    "print(f'Longitude = {p[0]:.3f}, Latitude = {p[1]:.3f}')"
   ]
  },
  {
   "cell_type": "markdown",
   "metadata": {},
   "source": [
    "Plot the distance matrix and illustrate sparseness"
   ]
  },
  {
   "cell_type": "code",
   "execution_count": 10,
   "metadata": {},
   "outputs": [],
   "source": [
    "plt.figure(20)\n",
    "plt.spy(osmMap.distancematrix>0, markersize=0.5)\n",
    "plt.xlabel('Node index')\n",
    "plt.ylabel('Node index')\n",
    "density = np.sum(osmMap.distancematrix>0)/num_nodes**2\n",
    "_ = plt.title(f'Density {density*100:.2f}%')"
   ]
  },
  {
   "cell_type": "markdown",
   "metadata": {},
   "source": [
    "# Define planning mission"
   ]
  },
  {
   "cell_type": "markdown",
   "metadata": {},
   "source": [
    "In the map, click on start and goal positions to define a mission. Try different missions, ranging from easy to more complex. \n",
    "\n",
    "An easy mission is a mission in the city centre; while a more difficult could be from Vallastaden to Tannefors."
   ]
  },
  {
   "cell_type": "code",
   "execution_count": 11,
   "metadata": {},
   "outputs": [
    {
     "name": "stdout",
     "output_type": "stream",
     "text": [
      "Mission: Go from node 10917 (Fysikgränd) to node 1063 (Skördegatan)\n"
     ]
    }
   ],
   "source": [
    "plt.figure(30, clear=True)\n",
    "osmMap.plotmap()\n",
    "plt.title('Linköping - click in map to define mission')\n",
    "mission = {}\n",
    "\n",
    "mission['start'] = osmMap.getmapposition()\n",
    "plt.plot(mission['start']['pos'][0], mission['start']['pos'][1], 'bx')\n",
    "mission['goal'] = osmMap.getmapposition()\n",
    "plt.plot(mission['goal']['pos'][0], mission['goal']['pos'][1], 'bx')\n",
    "\n",
    "plt.xlabel('Longitude')\n",
    "plt.ylabel('Latitude')\n",
    "\n",
    "print('Mission: Go from node %d ' % (mission['start']['id']), end='')\n",
    "if mission['start']['name'] != '':\n",
    "    print('(' + mission['start']['name'] + ')', end='')\n",
    "print(' to node %d ' % (mission['goal']['id']), end='')\n",
    "if mission['goal']['name'] != '':\n",
    "    print('(' + mission['goal']['name'] + ')', end='')\n",
    "print('')"
   ]
  },
  {
   "cell_type": "code",
   "execution_count": 12,
   "metadata": {},
   "outputs": [
    {
     "data": {
      "text/plain": [
       "{'start': {'id': 10917,\n",
       "  'pos': (15.582793548387098, 58.39286282790258),\n",
       "  'name': 'Fysikgränd'},\n",
       " 'goal': {'id': 1063,\n",
       "  'pos': (15.641922580645161, 58.410164290648105),\n",
       "  'name': 'Skördegatan'}}"
      ]
     },
     "execution_count": 12,
     "metadata": {},
     "output_type": "execute_result"
    }
   ],
   "source": [
    "mission"
   ]
  },
  {
   "cell_type": "markdown",
   "metadata": {},
   "source": [
    "Some pre-defined missions to experiment with. To use the first pre-defined mission, call the planner with\n",
    "```planner(num_nodes, pre_mission[0], f_next, cost_to_go)```."
   ]
  },
  {
   "cell_type": "code",
   "execution_count": 13,
   "metadata": {},
   "outputs": [],
   "source": [
    "pre_mission = [\n",
    "    {'start': {'id': 10906}, 'goal': {'id': 1024}},\n",
    "    {'start': {'id': 3987}, 'goal': {'id': 4724}},\n",
    "    {'start': {'id': 423}, 'goal': {'id': 364}}]\n",
    "# mission = pre_mission[0]"
   ]
  },
  {
   "cell_type": "markdown",
   "metadata": {},
   "source": [
    "# Implement planners"
   ]
  },
  {
   "cell_type": "code",
   "execution_count": 14,
   "metadata": {},
   "outputs": [],
   "source": [
    "def DepthFirst(num_nodes, mission, f_next, heuristic=None, num_controls=0):\n",
    "    \"\"\"Depth first planner.\"\"\"\n",
    "    t = Timer()\n",
    "    t.tic()\n",
    "    \n",
    "    unvis_node = -1\n",
    "    previous = np.full(num_nodes, dtype=np.int, fill_value=unvis_node)\n",
    "    cost_to_come = np.zeros(num_nodes)\n",
    "    control_to_come = np.zeros((num_nodes, num_controls), dtype=np.int)\n",
    "\n",
    "    startNode = mission['start']['id']\n",
    "    goalNode = mission['goal']['id']\n",
    "\n",
    "    q = LIFO()\n",
    "    q.insert(startNode)\n",
    "    foundPlan = False\n",
    "\n",
    "    while not q.IsEmpty():\n",
    "        x = q.pop()\n",
    "        if x == goalNode:\n",
    "            foundPlan = True\n",
    "            break\n",
    "        neighbours, u, d = f_next(x)\n",
    "        for xi, ui, di in zip(neighbours, u, d):\n",
    "            if previous[xi] == unvis_node:\n",
    "                previous[xi] = x\n",
    "                q.insert(xi)\n",
    "                cost_to_come[xi] = cost_to_come[x] + di\n",
    "                if num_controls > 0:\n",
    "                    control_to_come[xi] = ui\n",
    "\n",
    "    # Recreate the plan by traversing previous from goal node\n",
    "    if not foundPlan:\n",
    "        return []\n",
    "    else:\n",
    "        plan = [goalNode]\n",
    "        length = cost_to_come[goalNode]\n",
    "        control = []\n",
    "        while plan[0] != startNode:\n",
    "            if num_controls > 0:\n",
    "                control.insert(0, control_to_come[plan[0]])\n",
    "            plan.insert(0, previous[plan[0]])\n",
    "\n",
    "        return {'plan': plan,\n",
    "                'length': length,\n",
    "                'num_visited_nodes': np.sum(previous != unvis_node),\n",
    "                'name': 'DepthFirst',\n",
    "                'time': t.toc(),\n",
    "                'control': control,\n",
    "                'visited_nodes': previous[previous != unvis_node]}"
   ]
  },
  {
   "cell_type": "markdown",
   "metadata": {},
   "source": [
    "## Planning example using the DepthFirst planner"
   ]
  },
  {
   "cell_type": "markdown",
   "metadata": {},
   "source": [
    "Make a plan using the ```DepthFirst``` planner"
   ]
  },
  {
   "cell_type": "code",
   "execution_count": 18,
   "metadata": {},
   "outputs": [
    {
     "name": "stdout",
     "output_type": "stream",
     "text": [
      "24191.4 m, 2475 visited nodes, planning time 399.4 msek\n"
     ]
    }
   ],
   "source": [
    "df_plan = DepthFirst(num_nodes, mission, f_next)\n",
    "print('{:.1f} m, {} visited nodes, planning time {:.1f} msek'.format(\n",
    "    df_plan['length'],\n",
    "    df_plan['num_visited_nodes'],\n",
    "    df_plan['time']*1e3))"
   ]
  },
  {
   "cell_type": "markdown",
   "metadata": {},
   "source": [
    "Plot the resulting plan"
   ]
  },
  {
   "cell_type": "code",
   "execution_count": 21,
   "metadata": {},
   "outputs": [],
   "source": [
    "plt.figure(40, clear=True)\n",
    "osmMap.plotmap()\n",
    "osmMap.plotplan(df_plan['plan'], 'b',\n",
    "                label=f\"Depth first ({df_plan['length']:.1f} m)\")\n",
    "plt.title('Linköping')\n",
    "_ = plt.legend()"
   ]
  },
  {
   "cell_type": "markdown",
   "metadata": {},
   "source": [
    "Plot nodes visited during search"
   ]
  },
  {
   "cell_type": "code",
   "execution_count": 23,
   "metadata": {},
   "outputs": [],
   "source": [
    "plt.figure(41, clear=True)\n",
    "osmMap.plotmap()\n",
    "osmMap.plotplan(df_plan['visited_nodes'], 'b.')\n",
    "plt.ylabel('Latitude')\n",
    "plt.xlabel('Longitude')\n",
    "_ = plt.title('Nodes visited during DepthFirst search')"
   ]
  },
  {
   "cell_type": "markdown",
   "metadata": {},
   "source": [
    "Names of roads along the plan ..."
   ]
  },
  {
   "cell_type": "code",
   "execution_count": 24,
   "metadata": {},
   "outputs": [
    {
     "name": "stdout",
     "output_type": "stream",
     "text": [
      "Start: Fysikgränd -- Hannes Alfvéns gata -- Johannes Magnus väg -- Lärdomsgatan -- Nanna Svartz gata -- Poesigränd -- Fredrik Hasselqvists gata -- Lärdomsgatan -- Hugo Theorells gata -- Nelly Sachs gata -- Medicingränd -- Selma Lagerlöfs gata -- Johannes Magnus väg -- Stratomtavägen -- Vallarondellen -- Universitetsvägen -- Vallarondellen -- Rydsvägen -- Vallarondellen -- Malmslättsvägen -- Östgötagatan -- Västra vägen -- Folkungagatan -- Gärdesgatan -- Västanågatan -- Bjälbogatan -- Ulvåsavägen -- Kindagatan -- Skärkindsgatan -- Vifolkagatan -- Ydregatan -- Egnahemsgatan -- Stenbrötsgatan -- Vretagatan -- Kagagatan -- Vretagatan -- Tornhagsvägen -- Örngatan -- Orrgatan -- Vretagatan -- Blomgatan -- Grenadjärgatan -- Industrigatan -- Bergsvägen -- Bergsrondellen -- Bergsvägen -- Industrigatan -- Mellangatan -- Industrigatan -- Steningerondellen -- Industrigatan -- Järnvägsgatan -- Industrigatan -- Steningerondellen -- Industrigatan -- Nordengatan -- Industrigatan -- Mellangatan -- Slöjdgatan -- Timmermansgatan -- Sveagatan -- Platensgatan -- Östgötagatan -- Gustav Adolfsrondellen -- Gustav Adolfsgatan -- Kettilsgatan -- Hertig Karlsgatan -- Engelbrektsgatan -- Sparregatan -- Järnvägsgatan -- Sankt Larsgatan -- Sturegatan -- Klostergatan -- Vasavägen -- Järnvägsavenyn -- Järnvägsgatan -- Hamngatan -- Nygatan -- Snickaregatan -- Drottninggatan -- Nya Tanneforsvägen -- Drottningrondellen -- Nya Tanneforsvägen -- Gamla Tanneforsvägen -- Gamla Norrköpingsvägen -- Stallgatan -- Hästskogatan -- Vetegatan -- Augustbergsgatan -- Tegelbruksgatan -- Nya Tanneforsvägen -- Loftgatan -- Liegatan -- Arbetaregatan -- Sandgårdsgatan -- Nya Tanneforsvägen -- Sågaregatan -- Nya Tanneforsvägen -- Gamla Tanneforsvägen -- Råggatan -- Gamla Tanneforsvägen -- Gelbgjutaregatan -- Gamla Tanneforsvägen -- Ladugatan -- Lindengatan -- Slåttergatan -- Gamla Tanneforsvägen -- Korngatan -- Goal: Skördegatan\n"
     ]
    }
   ],
   "source": [
    "planWayNames = osmMap.getplanwaynames(df_plan['plan'])\n",
    "print('Start: ', end='')\n",
    "for w in planWayNames[:-1]:\n",
    "    print(w + ' -- ', end='')\n",
    "print('Goal: ' + planWayNames[-1])"
   ]
  },
  {
   "cell_type": "markdown",
   "metadata": {},
   "source": [
    "# Define planners"
   ]
  },
  {
   "cell_type": "markdown",
   "metadata": {},
   "source": [
    "Here, write your code for your planners. Start with the template code for the depth first search and extend."
   ]
  },
  {
   "cell_type": "code",
   "execution_count": null,
   "metadata": {},
   "outputs": [],
   "source": [
    "def BreadthFirst(num_nodes, mission, f_next, heuristic=None, num_controls=0):\n",
    "    pass\n",
    "\n",
    "def Dijkstra(num_nodes, mission, f_next, heuristic=None, num_controls=0):\n",
    "    pass\n",
    "\n",
    "def Astar(num_nodes, mission, f_next, heuristic=None, num_controls=0):\n",
    "    pass\n",
    "\n",
    "def BestFirst(num_nodes, mission, f_next, heuristic=None, num_controls=0):\n",
    "    pass"
   ]
  },
  {
   "cell_type": "markdown",
   "metadata": {},
   "source": [
    "# Define heuristic for Astar and BestFirst planners"
   ]
  },
  {
   "cell_type": "markdown",
   "metadata": {},
   "source": [
    "Define the heuristic for Astar and BestFirst. The ```LatLongDistance``` function will be useful."
   ]
  },
  {
   "cell_type": "code",
   "execution_count": null,
   "metadata": {},
   "outputs": [],
   "source": [
    "def cost_to_go(x, xg):\n",
    "    p_x = osmMap.nodeposition[x]\n",
    "    p_g = osmMap.nodeposition[xg]\n",
    "    return 0.0;"
   ]
  },
  {
   "cell_type": "markdown",
   "metadata": {},
   "source": [
    "# Investigations using all planners"
   ]
  },
  {
   "cell_type": "code",
   "execution_count": null,
   "metadata": {},
   "outputs": [],
   "source": []
  }
 ],
 "metadata": {
  "kernelspec": {
   "display_name": "Python 3",
   "language": "python",
   "name": "python3"
  },
  "language_info": {
   "codemirror_mode": {
    "name": "ipython",
    "version": 3
   },
   "file_extension": ".py",
   "mimetype": "text/x-python",
   "name": "python",
   "nbconvert_exporter": "python",
   "pygments_lexer": "ipython3",
   "version": "3.8.1"
  }
 },
 "nbformat": 4,
 "nbformat_minor": 4
}
